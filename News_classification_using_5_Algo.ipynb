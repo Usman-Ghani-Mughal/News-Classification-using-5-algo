{
 "cells": [
  {
   "cell_type": "markdown",
   "metadata": {},
   "source": [
    "# Imports"
   ]
  },
  {
   "cell_type": "code",
   "execution_count": 49,
   "metadata": {},
   "outputs": [],
   "source": [
    "import logging\n",
    "import pandas as pd\n",
    "import numpy as np\n",
    "from numpy import random\n",
    "import gensim\n",
    "import nltk\n",
    "from sklearn.model_selection import train_test_split\n",
    "from sklearn.feature_extraction.text import TfidfTransformer\n",
    "from sklearn.feature_extraction.text import CountVectorizer, TfidfVectorizer\n",
    "from sklearn.tree import DecisionTreeClassifier\n",
    "from sklearn.naive_bayes import MultinomialNB\n",
    "from sklearn.metrics import classification_report\n",
    "from sklearn.metrics import accuracy_score, confusion_matrix\n",
    "from sklearn.ensemble import RandomForestClassifier\n",
    "from gensim.models import Word2Vec\n",
    "import matplotlib.pyplot as plt\n",
    "from sklearn.linear_model import LogisticRegression\n",
    "from nltk.corpus import stopwords\n",
    "from nltk.tokenize import word_tokenize\n",
    "from sklearn.pipeline import Pipeline\n",
    "from sklearn.linear_model import SGDClassifier\n",
    "from sklearn.svm import SVC\n",
    "import re\n",
    "from bs4 import BeautifulSoup\n",
    "%matplotlib inline"
   ]
  },
  {
   "cell_type": "markdown",
   "metadata": {},
   "source": [
    "# Load Data Sets"
   ]
  },
  {
   "cell_type": "code",
   "execution_count": 50,
   "metadata": {
    "scrolled": true
   },
   "outputs": [
    {
     "data": {
      "text/html": [
       "<div>\n",
       "<style scoped>\n",
       "    .dataframe tbody tr th:only-of-type {\n",
       "        vertical-align: middle;\n",
       "    }\n",
       "\n",
       "    .dataframe tbody tr th {\n",
       "        vertical-align: top;\n",
       "    }\n",
       "\n",
       "    .dataframe thead th {\n",
       "        text-align: right;\n",
       "    }\n",
       "</style>\n",
       "<table border=\"1\" class=\"dataframe\">\n",
       "  <thead>\n",
       "    <tr style=\"text-align: right;\">\n",
       "      <th></th>\n",
       "      <th>category</th>\n",
       "      <th>headline</th>\n",
       "      <th>authors</th>\n",
       "      <th>link</th>\n",
       "      <th>short_description</th>\n",
       "      <th>date</th>\n",
       "    </tr>\n",
       "  </thead>\n",
       "  <tbody>\n",
       "    <tr>\n",
       "      <th>0</th>\n",
       "      <td>CRIME</td>\n",
       "      <td>There Were 2 Mass Shootings In Texas Last Week...</td>\n",
       "      <td>Melissa Jeltsen</td>\n",
       "      <td>https://www.huffingtonpost.com/entry/texas-ama...</td>\n",
       "      <td>She left her husband. He killed their children...</td>\n",
       "      <td>2018-05-26</td>\n",
       "    </tr>\n",
       "    <tr>\n",
       "      <th>1</th>\n",
       "      <td>ENTERTAINMENT</td>\n",
       "      <td>Will Smith Joins Diplo And Nicky Jam For The 2...</td>\n",
       "      <td>Andy McDonald</td>\n",
       "      <td>https://www.huffingtonpost.com/entry/will-smit...</td>\n",
       "      <td>Of course it has a song.</td>\n",
       "      <td>2018-05-26</td>\n",
       "    </tr>\n",
       "    <tr>\n",
       "      <th>2</th>\n",
       "      <td>ENTERTAINMENT</td>\n",
       "      <td>Hugh Grant Marries For The First Time At Age 57</td>\n",
       "      <td>Ron Dicker</td>\n",
       "      <td>https://www.huffingtonpost.com/entry/hugh-gran...</td>\n",
       "      <td>The actor and his longtime girlfriend Anna Ebe...</td>\n",
       "      <td>2018-05-26</td>\n",
       "    </tr>\n",
       "    <tr>\n",
       "      <th>3</th>\n",
       "      <td>ENTERTAINMENT</td>\n",
       "      <td>Jim Carrey Blasts 'Castrato' Adam Schiff And D...</td>\n",
       "      <td>Ron Dicker</td>\n",
       "      <td>https://www.huffingtonpost.com/entry/jim-carre...</td>\n",
       "      <td>The actor gives Dems an ass-kicking for not fi...</td>\n",
       "      <td>2018-05-26</td>\n",
       "    </tr>\n",
       "    <tr>\n",
       "      <th>4</th>\n",
       "      <td>ENTERTAINMENT</td>\n",
       "      <td>Julianna Margulies Uses Donald Trump Poop Bags...</td>\n",
       "      <td>Ron Dicker</td>\n",
       "      <td>https://www.huffingtonpost.com/entry/julianna-...</td>\n",
       "      <td>The \"Dietland\" actress said using the bags is ...</td>\n",
       "      <td>2018-05-26</td>\n",
       "    </tr>\n",
       "  </tbody>\n",
       "</table>\n",
       "</div>"
      ],
      "text/plain": [
       "        category                                           headline  \\\n",
       "0          CRIME  There Were 2 Mass Shootings In Texas Last Week...   \n",
       "1  ENTERTAINMENT  Will Smith Joins Diplo And Nicky Jam For The 2...   \n",
       "2  ENTERTAINMENT    Hugh Grant Marries For The First Time At Age 57   \n",
       "3  ENTERTAINMENT  Jim Carrey Blasts 'Castrato' Adam Schiff And D...   \n",
       "4  ENTERTAINMENT  Julianna Margulies Uses Donald Trump Poop Bags...   \n",
       "\n",
       "           authors                                               link  \\\n",
       "0  Melissa Jeltsen  https://www.huffingtonpost.com/entry/texas-ama...   \n",
       "1    Andy McDonald  https://www.huffingtonpost.com/entry/will-smit...   \n",
       "2       Ron Dicker  https://www.huffingtonpost.com/entry/hugh-gran...   \n",
       "3       Ron Dicker  https://www.huffingtonpost.com/entry/jim-carre...   \n",
       "4       Ron Dicker  https://www.huffingtonpost.com/entry/julianna-...   \n",
       "\n",
       "                                   short_description       date  \n",
       "0  She left her husband. He killed their children... 2018-05-26  \n",
       "1                           Of course it has a song. 2018-05-26  \n",
       "2  The actor and his longtime girlfriend Anna Ebe... 2018-05-26  \n",
       "3  The actor gives Dems an ass-kicking for not fi... 2018-05-26  \n",
       "4  The \"Dietland\" actress said using the bags is ... 2018-05-26  "
      ]
     },
     "execution_count": 50,
     "metadata": {},
     "output_type": "execute_result"
    }
   ],
   "source": [
    "df = pd.read_json('News_Category_Dataset_v2.json/News_Category_Dataset_v2.json', lines=True)\n",
    "df.head()"
   ]
  },
  {
   "cell_type": "code",
   "execution_count": 56,
   "metadata": {},
   "outputs": [],
   "source": [
    "df[df['authors']== ''] = 'Patrick Cockburn'"
   ]
  },
  {
   "cell_type": "markdown",
   "metadata": {},
   "source": [
    "# Data Prepration"
   ]
  },
  {
   "cell_type": "code",
   "execution_count": 61,
   "metadata": {},
   "outputs": [],
   "source": [
    "df.category = df.category.map(lambda x: \"WORLDPOST\" if x == \"THE WORLDPOST\" else x)"
   ]
  },
  {
   "cell_type": "code",
   "execution_count": 62,
   "metadata": {},
   "outputs": [],
   "source": [
    "df['news']= [df.loc[x, 'headline']+ \". \" + df.loc[x,'short_description'] +\" \"+ df.loc[x,'authors'] for x in range(len(df))]"
   ]
  },
  {
   "cell_type": "code",
   "execution_count": 63,
   "metadata": {
    "scrolled": true
   },
   "outputs": [],
   "source": [
    "df = df[pd.notnull(df['news'])]"
   ]
  },
  {
   "cell_type": "code",
   "execution_count": 64,
   "metadata": {
    "scrolled": true
   },
   "outputs": [
    {
     "data": {
      "image/png": "[encoded data removed]",
      "text/plain": [
       "<Figure size 1080x648 with 1 Axes>"
      ]
     },
     "metadata": {
      "needs_background": "light"
     },
     "output_type": "display_data"
    }
   ],
   "source": [
    "plt.figure(figsize=(15,9))\n",
    "df.category.value_counts().plot(kind='bar');"
   ]
  },
  {
   "cell_type": "code",
   "execution_count": 65,
   "metadata": {},
   "outputs": [
    {
     "data": {
      "text/html": [
       "<div>\n",
       "<style scoped>\n",
       "    .dataframe tbody tr th:only-of-type {\n",
       "        vertical-align: middle;\n",
       "    }\n",
       "\n",
       "    .dataframe tbody tr th {\n",
       "        vertical-align: top;\n",
       "    }\n",
       "\n",
       "    .dataframe thead th {\n",
       "        text-align: right;\n",
       "    }\n",
       "</style>\n",
       "<table border=\"1\" class=\"dataframe\">\n",
       "  <thead>\n",
       "    <tr style=\"text-align: right;\">\n",
       "      <th></th>\n",
       "      <th>category</th>\n",
       "      <th>headline</th>\n",
       "      <th>authors</th>\n",
       "      <th>link</th>\n",
       "      <th>short_description</th>\n",
       "      <th>date</th>\n",
       "      <th>news</th>\n",
       "    </tr>\n",
       "  </thead>\n",
       "  <tbody>\n",
       "    <tr>\n",
       "      <th>0</th>\n",
       "      <td>CRIME</td>\n",
       "      <td>There Were 2 Mass Shootings In Texas Last Week...</td>\n",
       "      <td>Melissa Jeltsen</td>\n",
       "      <td>https://www.huffingtonpost.com/entry/texas-ama...</td>\n",
       "      <td>She left her husband. He killed their children...</td>\n",
       "      <td>2018-05-26 00:00:00</td>\n",
       "      <td>There Were 2 Mass Shootings In Texas Last Week...</td>\n",
       "    </tr>\n",
       "    <tr>\n",
       "      <th>1</th>\n",
       "      <td>ENTERTAINMENT</td>\n",
       "      <td>Will Smith Joins Diplo And Nicky Jam For The 2...</td>\n",
       "      <td>Andy McDonald</td>\n",
       "      <td>https://www.huffingtonpost.com/entry/will-smit...</td>\n",
       "      <td>Of course it has a song.</td>\n",
       "      <td>2018-05-26 00:00:00</td>\n",
       "      <td>Will Smith Joins Diplo And Nicky Jam For The 2...</td>\n",
       "    </tr>\n",
       "    <tr>\n",
       "      <th>2</th>\n",
       "      <td>ENTERTAINMENT</td>\n",
       "      <td>Hugh Grant Marries For The First Time At Age 57</td>\n",
       "      <td>Ron Dicker</td>\n",
       "      <td>https://www.huffingtonpost.com/entry/hugh-gran...</td>\n",
       "      <td>The actor and his longtime girlfriend Anna Ebe...</td>\n",
       "      <td>2018-05-26 00:00:00</td>\n",
       "      <td>Hugh Grant Marries For The First Time At Age 5...</td>\n",
       "    </tr>\n",
       "    <tr>\n",
       "      <th>3</th>\n",
       "      <td>ENTERTAINMENT</td>\n",
       "      <td>Jim Carrey Blasts 'Castrato' Adam Schiff And D...</td>\n",
       "      <td>Ron Dicker</td>\n",
       "      <td>https://www.huffingtonpost.com/entry/jim-carre...</td>\n",
       "      <td>The actor gives Dems an ass-kicking for not fi...</td>\n",
       "      <td>2018-05-26 00:00:00</td>\n",
       "      <td>Jim Carrey Blasts 'Castrato' Adam Schiff And D...</td>\n",
       "    </tr>\n",
       "    <tr>\n",
       "      <th>4</th>\n",
       "      <td>ENTERTAINMENT</td>\n",
       "      <td>Julianna Margulies Uses Donald Trump Poop Bags...</td>\n",
       "      <td>Ron Dicker</td>\n",
       "      <td>https://www.huffingtonpost.com/entry/julianna-...</td>\n",
       "      <td>The \"Dietland\" actress said using the bags is ...</td>\n",
       "      <td>2018-05-26 00:00:00</td>\n",
       "      <td>Julianna Margulies Uses Donald Trump Poop Bags...</td>\n",
       "    </tr>\n",
       "  </tbody>\n",
       "</table>\n",
       "</div>"
      ],
      "text/plain": [
       "        category                                           headline  \\\n",
       "0          CRIME  There Were 2 Mass Shootings In Texas Last Week...   \n",
       "1  ENTERTAINMENT  Will Smith Joins Diplo And Nicky Jam For The 2...   \n",
       "2  ENTERTAINMENT    Hugh Grant Marries For The First Time At Age 57   \n",
       "3  ENTERTAINMENT  Jim Carrey Blasts 'Castrato' Adam Schiff And D...   \n",
       "4  ENTERTAINMENT  Julianna Margulies Uses Donald Trump Poop Bags...   \n",
       "\n",
       "           authors                                               link  \\\n",
       "0  Melissa Jeltsen  https://www.huffingtonpost.com/entry/texas-ama...   \n",
       "1    Andy McDonald  https://www.huffingtonpost.com/entry/will-smit...   \n",
       "2       Ron Dicker  https://www.huffingtonpost.com/entry/hugh-gran...   \n",
       "3       Ron Dicker  https://www.huffingtonpost.com/entry/jim-carre...   \n",
       "4       Ron Dicker  https://www.huffingtonpost.com/entry/julianna-...   \n",
       "\n",
       "                                   short_description                 date  \\\n",
       "0  She left her husband. He killed their children...  2018-05-26 00:00:00   \n",
       "1                           Of course it has a song.  2018-05-26 00:00:00   \n",
       "2  The actor and his longtime girlfriend Anna Ebe...  2018-05-26 00:00:00   \n",
       "3  The actor gives Dems an ass-kicking for not fi...  2018-05-26 00:00:00   \n",
       "4  The \"Dietland\" actress said using the bags is ...  2018-05-26 00:00:00   \n",
       "\n",
       "                                                news  \n",
       "0  There Were 2 Mass Shootings In Texas Last Week...  \n",
       "1  Will Smith Joins Diplo And Nicky Jam For The 2...  \n",
       "2  Hugh Grant Marries For The First Time At Age 5...  \n",
       "3  Jim Carrey Blasts 'Castrato' Adam Schiff And D...  \n",
       "4  Julianna Margulies Uses Donald Trump Poop Bags...  "
      ]
     },
     "execution_count": 65,
     "metadata": {},
     "output_type": "execute_result"
    }
   ],
   "source": [
    "df.head()"
   ]
  },
  {
   "cell_type": "code",
   "execution_count": 66,
   "metadata": {},
   "outputs": [],
   "source": [
    "REPLACE_BY_SPACE_RE = re.compile('[/(){}\\[\\]\\|@,;]')\n",
    "BAD_SYMBOLS_RE = re.compile('[^0-9a-z #+_]')\n",
    "STOPWORDS = set(stopwords.words('english'))"
   ]
  },
  {
   "cell_type": "code",
   "execution_count": 67,
   "metadata": {},
   "outputs": [],
   "source": [
    "def clean_text(text):\n",
    "    \"\"\"\n",
    "        text: a string\n",
    "        \n",
    "        return: modified initial string\n",
    "    \"\"\"\n",
    "    text = BeautifulSoup(text, \"lxml\").text # HTML decoding\n",
    "    text = text.lower() # lowercase text\n",
    "    text = REPLACE_BY_SPACE_RE.sub(' ', text) # replace REPLACE_BY_SPACE_RE symbols by space in text\n",
    "    text = BAD_SYMBOLS_RE.sub('', text) # delete symbols which are in BAD_SYMBOLS_RE from text\n",
    "    text = ' '.join(word for word in text.split() if word not in STOPWORDS) # delete stopwors from text\n",
    "    return text"
   ]
  },
  {
   "cell_type": "code",
   "execution_count": 68,
   "metadata": {},
   "outputs": [],
   "source": [
    "df['news'] = df['news'].apply(clean_text)"
   ]
  },
  {
   "cell_type": "code",
   "execution_count": 69,
   "metadata": {},
   "outputs": [
    {
     "data": {
      "text/html": [
       "<div>\n",
       "<style scoped>\n",
       "    .dataframe tbody tr th:only-of-type {\n",
       "        vertical-align: middle;\n",
       "    }\n",
       "\n",
       "    .dataframe tbody tr th {\n",
       "        vertical-align: top;\n",
       "    }\n",
       "\n",
       "    .dataframe thead th {\n",
       "        text-align: right;\n",
       "    }\n",
       "</style>\n",
       "<table border=\"1\" class=\"dataframe\">\n",
       "  <thead>\n",
       "    <tr style=\"text-align: right;\">\n",
       "      <th></th>\n",
       "      <th>category</th>\n",
       "      <th>headline</th>\n",
       "      <th>authors</th>\n",
       "      <th>link</th>\n",
       "      <th>short_description</th>\n",
       "      <th>date</th>\n",
       "      <th>news</th>\n",
       "    </tr>\n",
       "  </thead>\n",
       "  <tbody>\n",
       "    <tr>\n",
       "      <th>0</th>\n",
       "      <td>CRIME</td>\n",
       "      <td>There Were 2 Mass Shootings In Texas Last Week...</td>\n",
       "      <td>Melissa Jeltsen</td>\n",
       "      <td>https://www.huffingtonpost.com/entry/texas-ama...</td>\n",
       "      <td>She left her husband. He killed their children...</td>\n",
       "      <td>2018-05-26 00:00:00</td>\n",
       "      <td>2 mass shootings texas last week 1 tv left hus...</td>\n",
       "    </tr>\n",
       "    <tr>\n",
       "      <th>1</th>\n",
       "      <td>ENTERTAINMENT</td>\n",
       "      <td>Will Smith Joins Diplo And Nicky Jam For The 2...</td>\n",
       "      <td>Andy McDonald</td>\n",
       "      <td>https://www.huffingtonpost.com/entry/will-smit...</td>\n",
       "      <td>Of course it has a song.</td>\n",
       "      <td>2018-05-26 00:00:00</td>\n",
       "      <td>smith joins diplo nicky jam 2018 world cups of...</td>\n",
       "    </tr>\n",
       "    <tr>\n",
       "      <th>2</th>\n",
       "      <td>ENTERTAINMENT</td>\n",
       "      <td>Hugh Grant Marries For The First Time At Age 57</td>\n",
       "      <td>Ron Dicker</td>\n",
       "      <td>https://www.huffingtonpost.com/entry/hugh-gran...</td>\n",
       "      <td>The actor and his longtime girlfriend Anna Ebe...</td>\n",
       "      <td>2018-05-26 00:00:00</td>\n",
       "      <td>hugh grant marries first time age 57 actor lon...</td>\n",
       "    </tr>\n",
       "    <tr>\n",
       "      <th>3</th>\n",
       "      <td>ENTERTAINMENT</td>\n",
       "      <td>Jim Carrey Blasts 'Castrato' Adam Schiff And D...</td>\n",
       "      <td>Ron Dicker</td>\n",
       "      <td>https://www.huffingtonpost.com/entry/jim-carre...</td>\n",
       "      <td>The actor gives Dems an ass-kicking for not fi...</td>\n",
       "      <td>2018-05-26 00:00:00</td>\n",
       "      <td>jim carrey blasts castrato adam schiff democra...</td>\n",
       "    </tr>\n",
       "    <tr>\n",
       "      <th>4</th>\n",
       "      <td>ENTERTAINMENT</td>\n",
       "      <td>Julianna Margulies Uses Donald Trump Poop Bags...</td>\n",
       "      <td>Ron Dicker</td>\n",
       "      <td>https://www.huffingtonpost.com/entry/julianna-...</td>\n",
       "      <td>The \"Dietland\" actress said using the bags is ...</td>\n",
       "      <td>2018-05-26 00:00:00</td>\n",
       "      <td>julianna margulies uses donald trump poop bags...</td>\n",
       "    </tr>\n",
       "  </tbody>\n",
       "</table>\n",
       "</div>"
      ],
      "text/plain": [
       "        category                                           headline  \\\n",
       "0          CRIME  There Were 2 Mass Shootings In Texas Last Week...   \n",
       "1  ENTERTAINMENT  Will Smith Joins Diplo And Nicky Jam For The 2...   \n",
       "2  ENTERTAINMENT    Hugh Grant Marries For The First Time At Age 57   \n",
       "3  ENTERTAINMENT  Jim Carrey Blasts 'Castrato' Adam Schiff And D...   \n",
       "4  ENTERTAINMENT  Julianna Margulies Uses Donald Trump Poop Bags...   \n",
       "\n",
       "           authors                                               link  \\\n",
       "0  Melissa Jeltsen  https://www.huffingtonpost.com/entry/texas-ama...   \n",
       "1    Andy McDonald  https://www.huffingtonpost.com/entry/will-smit...   \n",
       "2       Ron Dicker  https://www.huffingtonpost.com/entry/hugh-gran...   \n",
       "3       Ron Dicker  https://www.huffingtonpost.com/entry/jim-carre...   \n",
       "4       Ron Dicker  https://www.huffingtonpost.com/entry/julianna-...   \n",
       "\n",
       "                                   short_description                 date  \\\n",
       "0  She left her husband. He killed their children...  2018-05-26 00:00:00   \n",
       "1                           Of course it has a song.  2018-05-26 00:00:00   \n",
       "2  The actor and his longtime girlfriend Anna Ebe...  2018-05-26 00:00:00   \n",
       "3  The actor gives Dems an ass-kicking for not fi...  2018-05-26 00:00:00   \n",
       "4  The \"Dietland\" actress said using the bags is ...  2018-05-26 00:00:00   \n",
       "\n",
       "                                                news  \n",
       "0  2 mass shootings texas last week 1 tv left hus...  \n",
       "1  smith joins diplo nicky jam 2018 world cups of...  \n",
       "2  hugh grant marries first time age 57 actor lon...  \n",
       "3  jim carrey blasts castrato adam schiff democra...  \n",
       "4  julianna margulies uses donald trump poop bags...  "
      ]
     },
     "execution_count": 69,
     "metadata": {},
     "output_type": "execute_result"
    }
   ],
   "source": [
    "df.head()"
   ]
  },
  {
   "cell_type": "markdown",
   "metadata": {},
   "source": [
    "# Extract Y and X from Repared Data Set"
   ]
  },
  {
   "cell_type": "code",
   "execution_count": 70,
   "metadata": {},
   "outputs": [],
   "source": [
    "X = df.loc[:,'news']\n",
    "Y = df.iloc[:,0]\n",
    "classes = df['category'].unique()"
   ]
  },
  {
   "cell_type": "markdown",
   "metadata": {},
   "source": [
    "# Train Test Split"
   ]
  },
  {
   "cell_type": "code",
   "execution_count": 71,
   "metadata": {},
   "outputs": [],
   "source": [
    "train_x, test_x, train_y, test_y = train_test_split(X, Y, test_size=0.3, random_state = 42)"
   ]
  },
  {
   "cell_type": "markdown",
   "metadata": {},
   "source": [
    "# Naive Bayes Classifier for Multinomial Models"
   ]
  },
  {
   "cell_type": "code",
   "execution_count": 72,
   "metadata": {},
   "outputs": [
    {
     "data": {
      "text/plain": [
       "Pipeline(memory=None,\n",
       "         steps=[('vect',\n",
       "                 CountVectorizer(analyzer='word', binary=False,\n",
       "                                 decode_error='strict',\n",
       "                                 dtype=<class 'numpy.int64'>, encoding='utf-8',\n",
       "                                 input='content', lowercase=True, max_df=1.0,\n",
       "                                 max_features=None, min_df=1,\n",
       "                                 ngram_range=(1, 1), preprocessor=None,\n",
       "                                 stop_words=None, strip_accents=None,\n",
       "                                 token_pattern='(?u)\\\\b\\\\w\\\\w+\\\\b',\n",
       "                                 tokenizer=None, vocabulary=None)),\n",
       "                ('tfidf',\n",
       "                 TfidfTransformer(norm='l2', smooth_idf=True,\n",
       "                                  sublinear_tf=False, use_idf=True)),\n",
       "                ('clf',\n",
       "                 MultinomialNB(alpha=1.0, class_prior=None, fit_prior=True))],\n",
       "         verbose=False)"
      ]
     },
     "execution_count": 72,
     "metadata": {},
     "output_type": "execute_result"
    }
   ],
   "source": [
    "nb = Pipeline([('vect', CountVectorizer()),\n",
    "               ('tfidf', TfidfTransformer()),\n",
    "               ('clf', MultinomialNB()),\n",
    "              ])\n",
    "nb.fit(train_x, train_y)"
   ]
  },
  {
   "cell_type": "code",
   "execution_count": 73,
   "metadata": {},
   "outputs": [],
   "source": [
    "y_pred = nb.predict(test_x)"
   ]
  },
  {
   "cell_type": "code",
   "execution_count": 75,
   "metadata": {},
   "outputs": [
    {
     "name": "stdout",
     "output_type": "stream",
     "text": [
      "accuracy 0.5465181890600106\n",
      "                  precision    recall  f1-score   support\n",
      "\n",
      "           CRIME       1.00      0.01      0.01       428\n",
      "   ENTERTAINMENT       0.00      0.00      0.00       403\n",
      "Patrick Cockburn       0.95      0.02      0.04      1042\n",
      "          IMPACT       0.93      0.06      0.11      1470\n",
      "        POLITICS       0.00      0.00      0.00       318\n",
      "      WEIRD NEWS       0.92      0.05      0.10      1378\n",
      "      WORLD NEWS       0.77      0.03      0.06       668\n",
      "    BLACK VOICES       0.00      0.00      0.00       197\n",
      "           WOMEN       1.00      0.02      0.04       515\n",
      "          COMEDY       0.00      0.00      0.00       290\n",
      "    QUEER VOICES       0.53      0.83      0.65      4232\n",
      "          SPORTS       0.00      0.00      0.00       208\n",
      "        BUSINESS       1.00      0.00      0.01       382\n",
      "          TRAVEL       0.74      0.58      0.65      1352\n",
      "           MEDIA       0.00      0.00      0.00       372\n",
      "            TECH       0.00      0.00      0.00       632\n",
      "        RELIGION       0.97      0.08      0.15      1868\n",
      "   LATINO VOICES       1.00      0.40      0.57      1045\n",
      "         SCIENCE       1.00      0.01      0.02       998\n",
      "       EDUCATION       0.00      0.00      0.00       299\n",
      "         COLLEGE       1.00      0.01      0.01       708\n",
      "         PARENTS       0.00      0.00      0.00       446\n",
      "  ARTS & CULTURE       0.79      0.24      0.36      1973\n",
      "           STYLE       0.98      0.16      0.28      1104\n",
      "           GREEN       0.33      1.00      0.49      8734\n",
      "           TASTE       1.00      1.00      1.00     10972\n",
      "  HEALTHY LIVING       0.99      0.25      0.40      1579\n",
      "       WORLDPOST       1.00      0.06      0.11       624\n",
      "       GOOD NEWS       1.00      0.02      0.03       522\n",
      "           FIFTY       0.99      0.13      0.22      1229\n",
      "            ARTS       0.00      0.00      0.00       679\n",
      "        WELLNESS       0.75      0.74      0.74      2125\n",
      "       PARENTING       1.00      0.01      0.01       635\n",
      "   HOME & LIVING       1.00      0.01      0.02       517\n",
      "  STYLE & BEAUTY       0.84      0.73      0.78      2641\n",
      "        WEDDINGS       1.00      0.05      0.09       529\n",
      "    FOOD & DRINK       0.75      0.00      0.01       670\n",
      "         DIVORCE       0.39      0.89      0.55      3766\n",
      "           MONEY       1.00      0.04      0.07       953\n",
      "     ENVIRONMENT       0.00      0.00      0.00       539\n",
      "  CULTURE & ARTS       1.00      0.03      0.06      1214\n",
      "\n",
      "        accuracy                           0.55     60256\n",
      "       macro avg       0.65      0.18      0.19     60256\n",
      "    weighted avg       0.72      0.55      0.47     60256\n",
      "\n"
     ]
    }
   ],
   "source": [
    "print('accuracy %s' % accuracy_score(y_pred, test_y))\n",
    "print(classification_report(test_y, y_pred,target_names=classes))"
   ]
  },
  {
   "cell_type": "markdown",
   "metadata": {},
   "source": [
    "# DecisionTree"
   ]
  },
  {
   "cell_type": "code",
   "execution_count": 76,
   "metadata": {},
   "outputs": [
    {
     "data": {
      "text/plain": [
       "Pipeline(memory=None,\n",
       "         steps=[('vect',\n",
       "                 CountVectorizer(analyzer='word', binary=False,\n",
       "                                 decode_error='strict',\n",
       "                                 dtype=<class 'numpy.int64'>, encoding='utf-8',\n",
       "                                 input='content', lowercase=True, max_df=1.0,\n",
       "                                 max_features=None, min_df=1,\n",
       "                                 ngram_range=(1, 1), preprocessor=None,\n",
       "                                 stop_words=None, strip_accents=None,\n",
       "                                 token_pattern='(?u)\\\\b\\\\w\\\\w+\\\\b',\n",
       "                                 tokenizer=None, vocabulary=Non...\n",
       "                                  sublinear_tf=False, use_idf=True)),\n",
       "                ('clf',\n",
       "                 DecisionTreeClassifier(ccp_alpha=0.0, class_weight=None,\n",
       "                                        criterion='gini', max_depth=None,\n",
       "                                        max_features=None, max_leaf_nodes=None,\n",
       "                                        min_impurity_decrease=0.0,\n",
       "                                        min_impurity_split=None,\n",
       "                                        min_samples_leaf=1, min_samples_split=2,\n",
       "                                        min_weight_fraction_leaf=0.0,\n",
       "                                        presort='deprecated', random_state=0,\n",
       "                                        splitter='best'))],\n",
       "         verbose=False)"
      ]
     },
     "execution_count": 76,
     "metadata": {},
     "output_type": "execute_result"
    }
   ],
   "source": [
    "nb = Pipeline([('vect', CountVectorizer()),\n",
    "               ('tfidf', TfidfTransformer()),\n",
    "               ('clf', DecisionTreeClassifier(random_state=0)),\n",
    "              ])\n",
    "nb.fit(train_x, train_y)"
   ]
  },
  {
   "cell_type": "code",
   "execution_count": 77,
   "metadata": {},
   "outputs": [],
   "source": [
    "y_pred = nb.predict(test_x)"
   ]
  },
  {
   "cell_type": "code",
   "execution_count": 78,
   "metadata": {},
   "outputs": [
    {
     "name": "stdout",
     "output_type": "stream",
     "text": [
      "accuracy 0.6565321295804567\n",
      "                  precision    recall  f1-score   support\n",
      "\n",
      "           CRIME       0.46      0.44      0.45       428\n",
      "   ENTERTAINMENT       0.55      0.51      0.53       403\n",
      "Patrick Cockburn       0.48      0.46      0.47      1042\n",
      "          IMPACT       0.41      0.41      0.41      1470\n",
      "        POLITICS       0.37      0.38      0.38       318\n",
      "      WEIRD NEWS       0.62      0.57      0.60      1378\n",
      "      WORLD NEWS       0.33      0.32      0.32       668\n",
      "    BLACK VOICES       0.46      0.36      0.40       197\n",
      "           WOMEN       0.64      0.59      0.61       515\n",
      "          COMEDY       0.34      0.31      0.32       290\n",
      "    QUEER VOICES       0.65      0.69      0.67      4232\n",
      "          SPORTS       0.21      0.19      0.20       208\n",
      "        BUSINESS       0.42      0.33      0.37       382\n",
      "          TRAVEL       0.68      0.71      0.69      1352\n",
      "           MEDIA       0.47      0.43      0.45       372\n",
      "            TECH       0.31      0.24      0.27       632\n",
      "        RELIGION       0.41      0.43      0.42      1868\n",
      "   LATINO VOICES       0.80      0.77      0.78      1045\n",
      "         SCIENCE       0.26      0.22      0.24       998\n",
      "       EDUCATION       0.65      0.52      0.58       299\n",
      "         COLLEGE       0.47      0.39      0.43       708\n",
      "         PARENTS       0.46      0.40      0.43       446\n",
      "  ARTS & CULTURE       0.47      0.51      0.49      1973\n",
      "           STYLE       0.45      0.41      0.43      1104\n",
      "           GREEN       0.71      0.77      0.74      8734\n",
      "           TASTE       1.00      1.00      1.00     10972\n",
      "  HEALTHY LIVING       0.71      0.69      0.70      1579\n",
      "       WORLDPOST       0.44      0.44      0.44       624\n",
      "       GOOD NEWS       0.49      0.42      0.45       522\n",
      "           FIFTY       0.62      0.56      0.59      1229\n",
      "            ARTS       0.66      0.60      0.63       679\n",
      "        WELLNESS       0.80      0.81      0.81      2125\n",
      "       PARENTING       0.49      0.42      0.45       635\n",
      "   HOME & LIVING       0.52      0.39      0.45       517\n",
      "  STYLE & BEAUTY       0.71      0.70      0.70      2641\n",
      "        WEDDINGS       0.64      0.60      0.62       529\n",
      "    FOOD & DRINK       0.34      0.45      0.39       670\n",
      "         DIVORCE       0.56      0.61      0.58      3766\n",
      "           MONEY       0.39      0.35      0.37       953\n",
      "     ENVIRONMENT       0.26      0.19      0.22       539\n",
      "  CULTURE & ARTS       0.38      0.36      0.37      1214\n",
      "\n",
      "        accuracy                           0.66     60256\n",
      "       macro avg       0.51      0.49      0.50     60256\n",
      "    weighted avg       0.65      0.66      0.65     60256\n",
      "\n"
     ]
    }
   ],
   "source": [
    "print('accuracy %s' % accuracy_score(y_pred, test_y))\n",
    "print(classification_report(test_y, y_pred,target_names=classes))"
   ]
  },
  {
   "cell_type": "markdown",
   "metadata": {},
   "source": [
    "# Random Forest"
   ]
  },
  {
   "cell_type": "code",
   "execution_count": 79,
   "metadata": {},
   "outputs": [
    {
     "data": {
      "text/plain": [
       "Pipeline(memory=None,\n",
       "         steps=[('vect',\n",
       "                 CountVectorizer(analyzer='word', binary=False,\n",
       "                                 decode_error='strict',\n",
       "                                 dtype=<class 'numpy.int64'>, encoding='utf-8',\n",
       "                                 input='content', lowercase=True, max_df=1.0,\n",
       "                                 max_features=None, min_df=1,\n",
       "                                 ngram_range=(1, 1), preprocessor=None,\n",
       "                                 stop_words=None, strip_accents=None,\n",
       "                                 token_pattern='(?u)\\\\b\\\\w\\\\w+\\\\b',\n",
       "                                 tokenizer=None, vocabulary=Non...\n",
       "                 RandomForestClassifier(bootstrap=True, ccp_alpha=0.0,\n",
       "                                        class_weight=None, criterion='gini',\n",
       "                                        max_depth=None, max_features='auto',\n",
       "                                        max_leaf_nodes=None, max_samples=None,\n",
       "                                        min_impurity_decrease=0.0,\n",
       "                                        min_impurity_split=None,\n",
       "                                        min_samples_leaf=1, min_samples_split=2,\n",
       "                                        min_weight_fraction_leaf=0.0,\n",
       "                                        n_estimators=100, n_jobs=None,\n",
       "                                        oob_score=False, random_state=None,\n",
       "                                        verbose=0, warm_start=False))],\n",
       "         verbose=False)"
      ]
     },
     "execution_count": 79,
     "metadata": {},
     "output_type": "execute_result"
    }
   ],
   "source": [
    "svm = Pipeline([('vect', CountVectorizer()),\n",
    "                ('tfidf', TfidfTransformer()),\n",
    "                ('clf', RandomForestClassifier(n_estimators=100)),\n",
    "               ])\n",
    "svm.fit(train_x, train_y)"
   ]
  },
  {
   "cell_type": "code",
   "execution_count": 80,
   "metadata": {},
   "outputs": [],
   "source": [
    "y_pred = svm.predict(test_x)"
   ]
  },
  {
   "cell_type": "code",
   "execution_count": 81,
   "metadata": {},
   "outputs": [
    {
     "name": "stdout",
     "output_type": "stream",
     "text": [
      "accuracy 0.7277781465746149\n",
      "                  precision    recall  f1-score   support\n",
      "\n",
      "           CRIME       0.64      0.52      0.58       428\n",
      "   ENTERTAINMENT       0.83      0.49      0.62       403\n",
      "Patrick Cockburn       0.72      0.47      0.57      1042\n",
      "          IMPACT       0.64      0.44      0.52      1470\n",
      "        POLITICS       0.64      0.34      0.44       318\n",
      "      WEIRD NEWS       0.72      0.61      0.66      1378\n",
      "      WORLD NEWS       0.56      0.44      0.50       668\n",
      "    BLACK VOICES       0.89      0.29      0.44       197\n",
      "           WOMEN       0.88      0.62      0.73       515\n",
      "          COMEDY       0.72      0.31      0.43       290\n",
      "    QUEER VOICES       0.67      0.81      0.74      4232\n",
      "          SPORTS       0.83      0.07      0.13       208\n",
      "        BUSINESS       0.91      0.26      0.40       382\n",
      "          TRAVEL       0.73      0.84      0.78      1352\n",
      "           MEDIA       0.73      0.42      0.53       372\n",
      "            TECH       0.61      0.19      0.29       632\n",
      "        RELIGION       0.64      0.42      0.51      1868\n",
      "   LATINO VOICES       0.93      0.82      0.87      1045\n",
      "         SCIENCE       0.79      0.21      0.33       998\n",
      "       EDUCATION       0.92      0.51      0.66       299\n",
      "         COLLEGE       0.83      0.34      0.48       708\n",
      "         PARENTS       0.84      0.36      0.51       446\n",
      "  ARTS & CULTURE       0.58      0.69      0.63      1973\n",
      "           STYLE       0.74      0.42      0.54      1104\n",
      "           GREEN       0.62      0.95      0.75      8734\n",
      "           TASTE       1.00      1.00      1.00     10972\n",
      "  HEALTHY LIVING       0.88      0.75      0.81      1579\n",
      "       WORLDPOST       0.75      0.47      0.58       624\n",
      "       GOOD NEWS       0.80      0.43      0.56       522\n",
      "           FIFTY       0.76      0.65      0.70      1229\n",
      "            ARTS       0.81      0.63      0.71       679\n",
      "        WELLNESS       0.84      0.86      0.85      2125\n",
      "       PARENTING       0.77      0.38      0.51       635\n",
      "   HOME & LIVING       0.84      0.38      0.52       517\n",
      "  STYLE & BEAUTY       0.78      0.83      0.80      2641\n",
      "        WEDDINGS       0.84      0.60      0.70       529\n",
      "    FOOD & DRINK       0.43      0.57      0.49       670\n",
      "         DIVORCE       0.52      0.86      0.64      3766\n",
      "           MONEY       0.62      0.33      0.44       953\n",
      "     ENVIRONMENT       0.58      0.12      0.19       539\n",
      "  CULTURE & ARTS       0.67      0.35      0.46      1214\n",
      "\n",
      "        accuracy                           0.73     60256\n",
      "       macro avg       0.74      0.51      0.58     60256\n",
      "    weighted avg       0.75      0.73      0.71     60256\n",
      "\n"
     ]
    }
   ],
   "source": [
    "print('accuracy %s' % accuracy_score(y_pred, test_y))\n",
    "print(classification_report(test_y, y_pred,target_names=classes))"
   ]
  },
  {
   "cell_type": "markdown",
   "metadata": {},
   "source": [
    "#  Support Vector Machine"
   ]
  },
  {
   "cell_type": "code",
   "execution_count": 82,
   "metadata": {},
   "outputs": [
    {
     "data": {
      "text/plain": [
       "Pipeline(memory=None,\n",
       "         steps=[('vect',\n",
       "                 CountVectorizer(analyzer='word', binary=False,\n",
       "                                 decode_error='strict',\n",
       "                                 dtype=<class 'numpy.int64'>, encoding='utf-8',\n",
       "                                 input='content', lowercase=True, max_df=1.0,\n",
       "                                 max_features=None, min_df=1,\n",
       "                                 ngram_range=(1, 1), preprocessor=None,\n",
       "                                 stop_words=None, strip_accents=None,\n",
       "                                 token_pattern='(?u)\\\\b\\\\w\\\\w+\\\\b',\n",
       "                                 tokenizer=None, vocabulary=Non...\n",
       "                ('clf',\n",
       "                 SGDClassifier(alpha=0.001, average=False, class_weight=None,\n",
       "                               early_stopping=False, epsilon=0.1, eta0=0.0,\n",
       "                               fit_intercept=True, l1_ratio=0.15,\n",
       "                               learning_rate='optimal', loss='hinge',\n",
       "                               max_iter=5, n_iter_no_change=5, n_jobs=None,\n",
       "                               penalty='l2', power_t=0.5, random_state=42,\n",
       "                               shuffle=True, tol=None, validation_fraction=0.1,\n",
       "                               verbose=0, warm_start=False))],\n",
       "         verbose=False)"
      ]
     },
     "execution_count": 82,
     "metadata": {},
     "output_type": "execute_result"
    }
   ],
   "source": [
    "sgd = Pipeline([('vect', CountVectorizer()),\n",
    "                ('tfidf', TfidfTransformer()),\n",
    "                ('clf', SGDClassifier(loss='hinge', penalty='l2',alpha=1e-3, random_state=42, max_iter=5, tol=None)),\n",
    "               ])\n",
    "sgd.fit(train_x, train_y)"
   ]
  },
  {
   "cell_type": "code",
   "execution_count": 83,
   "metadata": {},
   "outputs": [],
   "source": [
    "y_pred = sgd.predict(test_x)"
   ]
  },
  {
   "cell_type": "code",
   "execution_count": 84,
   "metadata": {},
   "outputs": [
    {
     "name": "stdout",
     "output_type": "stream",
     "text": [
      "accuracy 0.7093401486988847\n",
      "                  precision    recall  f1-score   support\n",
      "\n",
      "           CRIME       0.53      0.37      0.44       428\n",
      "   ENTERTAINMENT       0.76      0.30      0.43       403\n",
      "Patrick Cockburn       0.70      0.41      0.52      1042\n",
      "          IMPACT       0.64      0.41      0.50      1470\n",
      "        POLITICS       0.66      0.36      0.46       318\n",
      "      WEIRD NEWS       0.61      0.38      0.47      1378\n",
      "      WORLD NEWS       0.60      0.48      0.53       668\n",
      "    BLACK VOICES       0.61      0.27      0.38       197\n",
      "           WOMEN       0.79      0.70      0.74       515\n",
      "          COMEDY       0.67      0.36      0.47       290\n",
      "    QUEER VOICES       0.67      0.80      0.73      4232\n",
      "          SPORTS       0.58      0.14      0.22       208\n",
      "        BUSINESS       0.77      0.35      0.48       382\n",
      "          TRAVEL       0.71      0.81      0.75      1352\n",
      "           MEDIA       0.60      0.48      0.53       372\n",
      "            TECH       0.53      0.18      0.27       632\n",
      "        RELIGION       0.66      0.25      0.36      1868\n",
      "   LATINO VOICES       0.81      0.81      0.81      1045\n",
      "         SCIENCE       0.61      0.30      0.40       998\n",
      "       EDUCATION       0.85      0.51      0.63       299\n",
      "         COLLEGE       0.71      0.29      0.41       708\n",
      "         PARENTS       0.75      0.43      0.55       446\n",
      "  ARTS & CULTURE       0.65      0.63      0.64      1973\n",
      "           STYLE       0.68      0.42      0.52      1104\n",
      "           GREEN       0.58      0.95      0.72      8734\n",
      "           TASTE       1.00      1.00      1.00     10972\n",
      "  HEALTHY LIVING       0.74      0.78      0.76      1579\n",
      "       WORLDPOST       0.66      0.50      0.57       624\n",
      "       GOOD NEWS       0.72      0.54      0.62       522\n",
      "           FIFTY       0.74      0.70      0.72      1229\n",
      "            ARTS       0.69      0.34      0.45       679\n",
      "        WELLNESS       0.70      0.86      0.77      2125\n",
      "       PARENTING       0.69      0.32      0.44       635\n",
      "   HOME & LIVING       0.78      0.44      0.56       517\n",
      "  STYLE & BEAUTY       0.72      0.87      0.78      2641\n",
      "        WEDDINGS       0.70      0.70      0.70       529\n",
      "    FOOD & DRINK       0.59      0.34      0.44       670\n",
      "         DIVORCE       0.58      0.82      0.68      3766\n",
      "           MONEY       0.65      0.31      0.42       953\n",
      "     ENVIRONMENT       0.45      0.10      0.17       539\n",
      "  CULTURE & ARTS       0.67      0.33      0.44      1214\n",
      "\n",
      "        accuracy                           0.71     60256\n",
      "       macro avg       0.68      0.50      0.55     60256\n",
      "    weighted avg       0.72      0.71      0.69     60256\n",
      "\n"
     ]
    }
   ],
   "source": [
    "print('accuracy %s' % accuracy_score(y_pred, test_y))\n",
    "print(classification_report(test_y, y_pred,target_names=classes))"
   ]
  },
  {
   "cell_type": "markdown",
   "metadata": {},
   "source": [
    "# Logistic Regression"
   ]
  },
  {
   "cell_type": "code",
   "execution_count": 88,
   "metadata": {},
   "outputs": [
    {
     "name": "stderr",
     "output_type": "stream",
     "text": [
      "C:\\Users\\Usman_Ghani_Mughal\\Anaconda3\\envs\\neural_netwroks\\lib\\site-packages\\sklearn\\linear_model\\_logistic.py:940: ConvergenceWarning: lbfgs failed to converge (status=1):\n",
      "STOP: TOTAL NO. of ITERATIONS REACHED LIMIT.\n",
      "\n",
      "Increase the number of iterations (max_iter) or scale the data as shown in:\n",
      "    https://scikit-learn.org/stable/modules/preprocessing.html\n",
      "Please also refer to the documentation for alternative solver options:\n",
      "    https://scikit-learn.org/stable/modules/linear_model.html#logistic-regression\n",
      "  extra_warning_msg=_LOGISTIC_SOLVER_CONVERGENCE_MSG)\n"
     ]
    },
    {
     "data": {
      "text/plain": [
       "Pipeline(memory=None,\n",
       "         steps=[('vect',\n",
       "                 CountVectorizer(analyzer='word', binary=False,\n",
       "                                 decode_error='strict',\n",
       "                                 dtype=<class 'numpy.int64'>, encoding='utf-8',\n",
       "                                 input='content', lowercase=True, max_df=1.0,\n",
       "                                 max_features=None, min_df=1,\n",
       "                                 ngram_range=(1, 1), preprocessor=None,\n",
       "                                 stop_words=None, strip_accents=None,\n",
       "                                 token_pattern='(?u)\\\\b\\\\w\\\\w+\\\\b',\n",
       "                                 tokenizer=None, vocabulary=None)),\n",
       "                ('tfidf',\n",
       "                 TfidfTransformer(norm='l2', smooth_idf=True,\n",
       "                                  sublinear_tf=False, use_idf=True)),\n",
       "                ('clf',\n",
       "                 LogisticRegression(C=100000.0, class_weight=None, dual=False,\n",
       "                                    fit_intercept=True, intercept_scaling=1,\n",
       "                                    l1_ratio=None, max_iter=100,\n",
       "                                    multi_class='auto', n_jobs=1, penalty='l2',\n",
       "                                    random_state=None, solver='lbfgs',\n",
       "                                    tol=0.0001, verbose=0, warm_start=False))],\n",
       "         verbose=False)"
      ]
     },
     "execution_count": 88,
     "metadata": {},
     "output_type": "execute_result"
    }
   ],
   "source": [
    "logreg = Pipeline([('vect', CountVectorizer()),\n",
    "                ('tfidf', TfidfTransformer()),\n",
    "                ('clf', LogisticRegression(n_jobs=1, C=1e5)),\n",
    "               ])\n",
    "logreg.fit(train_x, train_y)"
   ]
  },
  {
   "cell_type": "code",
   "execution_count": 86,
   "metadata": {},
   "outputs": [],
   "source": [
    "y_pred = logreg.predict(test_x)"
   ]
  },
  {
   "cell_type": "code",
   "execution_count": 87,
   "metadata": {},
   "outputs": [
    {
     "name": "stdout",
     "output_type": "stream",
     "text": [
      "accuracy 0.7697822623473181\n",
      "                  precision    recall  f1-score   support\n",
      "\n",
      "           CRIME       0.53      0.55      0.54       428\n",
      "   ENTERTAINMENT       0.70      0.60      0.64       403\n",
      "Patrick Cockburn       0.68      0.62      0.64      1042\n",
      "          IMPACT       0.62      0.62      0.62      1470\n",
      "        POLITICS       0.56      0.54      0.55       318\n",
      "      WEIRD NEWS       0.71      0.64      0.68      1378\n",
      "      WORLD NEWS       0.61      0.62      0.62       668\n",
      "    BLACK VOICES       0.78      0.31      0.45       197\n",
      "           WOMEN       0.84      0.74      0.79       515\n",
      "          COMEDY       0.65      0.57      0.60       290\n",
      "    QUEER VOICES       0.76      0.84      0.80      4232\n",
      "          SPORTS       0.58      0.25      0.35       208\n",
      "        BUSINESS       0.72      0.56      0.63       382\n",
      "          TRAVEL       0.76      0.78      0.77      1352\n",
      "           MEDIA       0.66      0.56      0.60       372\n",
      "            TECH       0.53      0.47      0.50       632\n",
      "        RELIGION       0.53      0.56      0.54      1868\n",
      "   LATINO VOICES       0.93      0.89      0.91      1045\n",
      "         SCIENCE       0.52      0.51      0.51       998\n",
      "       EDUCATION       0.78      0.70      0.73       299\n",
      "         COLLEGE       0.64      0.58      0.61       708\n",
      "         PARENTS       0.69      0.69      0.69       446\n",
      "  ARTS & CULTURE       0.68      0.69      0.69      1973\n",
      "           STYLE       0.62      0.59      0.60      1104\n",
      "           GREEN       0.78      0.83      0.81      8734\n",
      "           TASTE       1.00      1.00      1.00     10972\n",
      "  HEALTHY LIVING       0.83      0.81      0.82      1579\n",
      "       WORLDPOST       0.66      0.67      0.66       624\n",
      "       GOOD NEWS       0.68      0.64      0.66       522\n",
      "           FIFTY       0.80      0.79      0.79      1229\n",
      "            ARTS       0.76      0.65      0.70       679\n",
      "        WELLNESS       0.86      0.87      0.87      2125\n",
      "       PARENTING       0.52      0.46      0.49       635\n",
      "   HOME & LIVING       0.70      0.64      0.67       517\n",
      "  STYLE & BEAUTY       0.85      0.86      0.86      2641\n",
      "        WEDDINGS       0.78      0.78      0.78       529\n",
      "    FOOD & DRINK       0.54      0.56      0.55       670\n",
      "         DIVORCE       0.71      0.76      0.73      3766\n",
      "           MONEY       0.58      0.50      0.54       953\n",
      "     ENVIRONMENT       0.47      0.38      0.42       539\n",
      "  CULTURE & ARTS       0.58      0.61      0.60      1214\n",
      "\n",
      "        accuracy                           0.77     60256\n",
      "       macro avg       0.69      0.64      0.66     60256\n",
      "    weighted avg       0.77      0.77      0.77     60256\n",
      "\n"
     ]
    }
   ],
   "source": [
    "print('accuracy %s' % accuracy_score(y_pred, test_y))\n",
    "print(classification_report(test_y, y_pred,target_names=classes))"
   ]
  },
  {
   "cell_type": "code",
   "execution_count": null,
   "metadata": {},
   "outputs": [],
   "source": []
  }
 ],
 "metadata": {
  "kernelspec": {
   "display_name": "neural_networks",
   "language": "python",
   "name": "neural_netwroks"
  },
  "language_info": {
   "codemirror_mode": {
    "name": "ipython",
    "version": 3
   },
   "file_extension": ".py",
   "mimetype": "text/x-python",
   "name": "python",
   "nbconvert_exporter": "python",
   "pygments_lexer": "ipython3",
   "version": "3.7.6"
  }
 },
 "nbformat": 4,
 "nbformat_minor": 4
}
